{
 "cells": [
  {
   "cell_type": "markdown",
   "metadata": {},
   "source": [
    "# VERİ YAPILARI 1.ŞIK"
   ]
  },
  {
   "cell_type": "code",
   "execution_count": 2,
   "metadata": {},
   "outputs": [
    {
     "name": "stdout",
     "output_type": "stream",
     "text": [
      "HAFTANIN BİR GÜNÜNÜ SEÇİNİZ:1\n",
      "HAFTANIN FARKLI BİR GÜNÜNÜ DAHA SEÇİNİZ:2\n",
      "SEÇTİĞİNİZ GÜNLER LİSTENİZDEN ÇIKARILMIŞTIR. \n",
      "\n",
      "GÜNCEL LİSTENİZ; ['ÇARŞAMBA', 'PERŞEMBE', 'CUMA', 'CUMARTESİ', 'PAZAR']\n"
     ]
    }
   ],
   "source": [
    "GÜNLER = { \"1\" : \"PAZARTESİ\",\n",
    "           \"2\" : \"SALI\",\n",
    "           \"3\" : \"ÇARŞAMBA\",\n",
    "           \"4\" : \"PERŞEMBE\",\n",
    "           \"5\" : \"CUMA\",\n",
    "           \"6\" : \"CUMARTESİ\",\n",
    "           \"7\" : \"PAZAR\"\n",
    "    }\n",
    "A = input (\"HAFTANIN BİR GÜNÜNÜ SEÇİNİZ:\")\n",
    "B = input (\"HAFTANIN FARKLI BİR GÜNÜNÜ DAHA SEÇİNİZ:\")\n",
    "print (\"SEÇTİĞİNİZ GÜNLER LİSTENİZDEN ÇIKARILMIŞTIR.\", \"\\n\")\n",
    "print (\"GÜNCEL LİSTENİZ;\", end=\" \")\n",
    "del GÜNLER[A]\n",
    "del GÜNLER[B]\n",
    "print(list(GÜNLER.values()))"
   ]
  },
  {
   "cell_type": "markdown",
   "metadata": {},
   "source": [
    "# VERİ YAPILARI 2.ŞIK"
   ]
  },
  {
   "cell_type": "code",
   "execution_count": 8,
   "metadata": {},
   "outputs": [
    {
     "name": "stdout",
     "output_type": "stream",
     "text": [
      "{'OCAK': 31, 'ŞUBAT': 28, 'MART:': 31, 'NİSAN': 30, 'MAYIS': 31, 'HAZİRAN': 30, 'TEMMUZ': 31, 'AĞUSTOS': 31, 'EYLÜL': 30, 'EKİM': 31, 'KASIM': 30, 'ARALIK': 31}\n"
     ]
    }
   ],
   "source": [
    "AYLAR = { \"OCAK\": 31,\n",
    "         \"ŞUBAT\": 28,\n",
    "         \"MART:\" :31,\n",
    "         \"NİSAN\" :30,\n",
    "         \"MAYIS\" :31,\n",
    "         \"HAZİRAN\" :30,\n",
    "         \"TEMMUZ\" :31,\n",
    "         \"AĞUSTOS\" :31,\n",
    "         \"EYLÜL\": 30,\n",
    "         \"EKİM\" :31,\n",
    "         \"KASIM\" :30,\n",
    "         \"ARALIK\" :31}\n",
    "print(AYLAR)\n"
   ]
  },
  {
   "cell_type": "markdown",
   "metadata": {},
   "source": [
    "# VERİ YAPILARI 3.ŞIK"
   ]
  },
  {
   "cell_type": "code",
   "execution_count": 9,
   "metadata": {},
   "outputs": [
    {
     "name": "stdout",
     "output_type": "stream",
     "text": [
      "dict_items([('OCAK', 31), ('ŞUBAT', 28), ('MART:', 31), ('NİSAN', 30), ('MAYIS', 31), ('HAZİRAN', 30), ('TEMMUZ', 31), ('AĞUSTOS', 31), ('EYLÜL', 30), ('EKİM', 31), ('KASIM', 30), ('ARALIK', 31)])\n"
     ]
    }
   ],
   "source": [
    "print (AYLAR.items())"
   ]
  },
  {
   "cell_type": "markdown",
   "metadata": {},
   "source": [
    "# VERİ YAPILARI 4.ŞIK"
   ]
  },
  {
   "cell_type": "code",
   "execution_count": 10,
   "metadata": {},
   "outputs": [
    {
     "name": "stdout",
     "output_type": "stream",
     "text": [
      "[['MART', 'NİSAN', 'MAYIS'], ['HAZİRAN', 'TEMMUZ', 'AĞUSTOS'], ['EYLÜL', 'EKİM', 'KASIM'], ['ARALIK', 'OCAK', 'ŞUBAT']]\n"
     ]
    }
   ],
   "source": [
    "İLKBAHAR = [\"MART\",\"NİSAN\",\"MAYIS\"]\n",
    "YAZ=[\"HAZİRAN\",\"TEMMUZ\",\"AĞUSTOS\"]\n",
    "SONBAHAR=[\"EYLÜL\",\"EKİM\",\"KASIM\"]\n",
    "KIŞ=[\"ARALIK\",\"OCAK\",\"ŞUBAT\"]\n",
    "MEVSİMLER=[İLKBAHAR,YAZ,SONBAHAR,KIŞ]\n",
    "print(MEVSİMLER)"
   ]
  },
  {
   "cell_type": "markdown",
   "metadata": {},
   "source": [
    "# VERİ YAPILARI 5.ŞIK"
   ]
  },
  {
   "cell_type": "code",
   "execution_count": 16,
   "metadata": {},
   "outputs": [
    {
     "name": "stdout",
     "output_type": "stream",
     "text": [
      "92\n"
     ]
    }
   ],
   "source": [
    "print(AYLAR[\"HAZİRAN\"]+AYLAR[\"TEMMUZ\"]+AYLAR[\"AĞUSTOS\"])"
   ]
  }
 ],
 "metadata": {
  "kernelspec": {
   "display_name": "Python 3",
   "language": "python",
   "name": "python3"
  },
  "language_info": {
   "codemirror_mode": {
    "name": "ipython",
    "version": 3
   },
   "file_extension": ".py",
   "mimetype": "text/x-python",
   "name": "python",
   "nbconvert_exporter": "python",
   "pygments_lexer": "ipython3",
   "version": "3.7.4"
  }
 },
 "nbformat": 4,
 "nbformat_minor": 2
}
