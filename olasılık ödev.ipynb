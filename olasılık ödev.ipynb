{
 "cells": [
  {
   "cell_type": "code",
   "execution_count": 22,
   "metadata": {
    "scrolled": true
   },
   "outputs": [
    {
     "name": "stdout",
     "output_type": "stream",
     "text": [
      "BİLGİSAYARINIZ HANGİ FİRMADA ÜRETİLMİŞTİR:B\n",
      "hatalı üretim olma olasılığı: 0.3333333333333333\n"
     ]
    }
   ],
   "source": [
    "A=0.20\n",
    "B=A*5/2\n",
    "C=A*5/2\n",
    "DA=10/1000\n",
    "DB=DA*200/3\n",
    "DC=50*DA\n",
    "A_NIN_BOZUK_ÜRETİM_OLASILIĞI= A*DA\n",
    "B_NİN_BOZUK_ÜRETİM_OLASILIĞI= B*DB\n",
    "C_NİN_BOZUK_ÜRETİM_OLASILIĞI= C*DC\n",
    "sonuç=input(\"BİLGİSAYARINIZ HANGİ FİRMADA ÜRETİLMİŞTİR:\")\n",
    "if sonuç== str(\"A\"):\n",
    "    print(\"hatalı üretim olma olasılığı:\",A_NIN_BOZUK_ÜRETİM_OLASILIĞI)\n",
    "elif sonuç== str(\"B\"):\n",
    "    print(\"hatalı üretim olma olasılığı:\",B_NİN_BOZUK_ÜRETİM_OLASILIĞI)\n",
    "elif sonuç==str (\"C\"):\n",
    "    print(\"hatalı üretim olma olasılığı:\",C_NİN_BOZUK_ÜRETİM_OLASILIĞI)\n",
    "    \n"
   ]
  }
 ],
 "metadata": {
  "kernelspec": {
   "display_name": "Python 3",
   "language": "python",
   "name": "python3"
  },
  "language_info": {
   "codemirror_mode": {
    "name": "ipython",
    "version": 3
   },
   "file_extension": ".py",
   "mimetype": "text/x-python",
   "name": "python",
   "nbconvert_exporter": "python",
   "pygments_lexer": "ipython3",
   "version": "3.7.4"
  }
 },
 "nbformat": 4,
 "nbformat_minor": 2
}
