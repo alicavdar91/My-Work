{
 "cells": [
  {
   "cell_type": "markdown",
   "metadata": {},
   "source": [
    "# 1.ŞIK CEVABI"
   ]
  },
  {
   "cell_type": "code",
   "execution_count": 1,
   "metadata": {},
   "outputs": [
    {
     "name": "stdout",
     "output_type": "stream",
     "text": [
      "YATIRMAK İSTEDİĞİNİZ MİKTARI GİRİNİZ(DOLAR OLARAK):1000\n",
      "GÜNCEL, GÜNLÜK ARTIŞ MİKTARINI GİRİNİZ(YÜZDE OLARAK):12\n",
      "PARANIZIN KALACAĞI GÜN MİKTARI GİRİNİZ:7\n",
      "7 gün sonunda, elinizde bulunacak para: 2210.6814074060812\n"
     ]
    }
   ],
   "source": [
    "A= input (\"YATIRMAK İSTEDİĞİNİZ MİKTARI GİRİNİZ(DOLAR OLARAK):\")\n",
    "B= input (\"GÜNCEL, GÜNLÜK ARTIŞ MİKTARINI GİRİNİZ(YÜZDE OLARAK):\")\n",
    "X= int(B)/100\n",
    "Y= 1+ float(X)\n",
    "C= input (\"PARANIZIN KALACAĞI GÜN MİKTARI GİRİNİZ:\")\n",
    "D= int(A)*float(Y)**int(C)\n",
    "print( \"{} gün sonunda, elinizde bulunacak para: {}\".format(C,D))\n"
   ]
  },
  {
   "cell_type": "markdown",
   "metadata": {},
   "source": [
    "# 2.ŞIK CEVABI"
   ]
  },
  {
   "cell_type": "code",
   "execution_count": 2,
   "metadata": {},
   "outputs": [],
   "source": [
    "A=1000\n",
    "B=\"%12\"\n",
    "C=1210.68\n"
   ]
  },
  {
   "cell_type": "code",
   "execution_count": 4,
   "metadata": {},
   "outputs": [
    {
     "name": "stdout",
     "output_type": "stream",
     "text": [
      "Hafta başında 1000 dolarlık bitcoin aldığımızda günde ortalama %12 kazançla, bir hafta sonunda 1210.68 dolar kazanırdık\n"
     ]
    }
   ],
   "source": [
    "print(\"Hafta başında {} dolarlık bitcoin aldığımızda günde ortalama {} kazançla,\".format(A,B), end=\" \")\n",
    "print(\"bir hafta sonunda {} dolar kazanırdık\".format(C))"
   ]
  },
  {
   "cell_type": "markdown",
   "metadata": {},
   "source": [
    "# 3.ŞIK CEVABI"
   ]
  },
  {
   "cell_type": "code",
   "execution_count": 3,
   "metadata": {
    "scrolled": true
   },
   "outputs": [
    {
     "name": "stdout",
     "output_type": "stream",
     "text": [
      "DOSYA ADI:DATAJARLABS\n",
      "DATAJARLABS.py\n"
     ]
    }
   ],
   "source": [
    "X = input(\"DOSYA ADI:\")\n",
    "Y = \".py\"\n",
    "print (X+Y)"
   ]
  },
  {
   "cell_type": "code",
   "execution_count": null,
   "metadata": {},
   "outputs": [],
   "source": []
  }
 ],
 "metadata": {
  "kernelspec": {
   "display_name": "Python 3",
   "language": "python",
   "name": "python3"
  },
  "language_info": {
   "codemirror_mode": {
    "name": "ipython",
    "version": 3
   },
   "file_extension": ".py",
   "mimetype": "text/x-python",
   "name": "python",
   "nbconvert_exporter": "python",
   "pygments_lexer": "ipython3",
   "version": "3.7.4"
  }
 },
 "nbformat": 4,
 "nbformat_minor": 2
}
