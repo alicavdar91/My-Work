{
 "cells": [
  {
   "cell_type": "markdown",
   "metadata": {},
   "source": [
    "# 1. şık cevabı"
   ]
  },
  {
   "cell_type": "code",
   "execution_count": 11,
   "metadata": {},
   "outputs": [
    {
     "name": "stdout",
     "output_type": "stream",
     "text": [
      "SICAKLIK DEĞERİNİ GİRİNİZ:40\n",
      "SICAKLIK BİRİMİNİ YAZINIZ(C YADA F):C\n",
      "GİRMİŞ OLDUĞUNUZ 40.0C= 104.0'DİR.\n"
     ]
    }
   ],
   "source": [
    "A= float(input(\"SICAKLIK DEĞERİNİ GİRİNİZ:\"))\n",
    "B= str(input(\"SICAKLIK BİRİMİNİ YAZINIZ(C YADA F):\"))\n",
    "D= float(A)\n",
    "C= float((5/9) * (D - 32))\n",
    "F= float((D*9/5))+32\n",
    "if  B == (\"C\"):\n",
    "    print(\"GİRMİŞ OLDUĞUNUZ {}C= {}'DİR.\".format(D,F))\n",
    "elif B==(\"F\"):\n",
    "    print(\"GİRMİŞ OLDUĞUNUZ {}F= {}'DİR'.\".format(D,C))\n",
    "else :\n",
    "    print (\"HATALI BİRİM GİRDİNİZ.DOĞRU DEĞERİ GİRİNİZ( C YADA F)\")\n",
    "    B= str(input(\"SICAKLIK BİRİMİNİ YAZINIZ(C YADA F):\"))\n",
    "    if   B == (\"C\"):\n",
    "         print(\"GİRMİŞ OLDUĞUNUZ {}C= {}'DİR.\".format(D,F))\n",
    "    elif B==(\"F\"):\n",
    "         print(\"GİRMİŞ OLDUĞUNUZ {}F= {}'DİR'.\".format(D,C))"
   ]
  },
  {
   "cell_type": "code",
   "execution_count": 12,
   "metadata": {
    "scrolled": true
   },
   "outputs": [
    {
     "name": "stdout",
     "output_type": "stream",
     "text": [
      "SICAKLIK DEĞERİNİ GİRİNİZ:52\n",
      "SICAKLIK BİRİMİNİ YAZINIZ(C YADA F):F\n",
      "GİRMİŞ OLDUĞUNUZ 52.0F= 11.11111111111111'DİR'.\n"
     ]
    }
   ],
   "source": [
    "A= float(input(\"SICAKLIK DEĞERİNİ GİRİNİZ:\"))\n",
    "B= str(input(\"SICAKLIK BİRİMİNİ YAZINIZ(C YADA F):\"))\n",
    "D= float(A)\n",
    "C= float((5/9) * (D - 32))\n",
    "F= float((D*9/5))+32\n",
    "if  B == (\"C\"):\n",
    "    print(\"GİRMİŞ OLDUĞUNUZ {}C= {}'DİR.\".format(D,F))\n",
    "elif B==(\"F\"):\n",
    "    print(\"GİRMİŞ OLDUĞUNUZ {}F= {}'DİR'.\".format(D,C))\n",
    "else :\n",
    "    print (\"HATALI BİRİM GİRDİNİZ.DOĞRU DEĞERİ GİRİNİZ( C YADA F)\")\n",
    "    B= str(input(\"SICAKLIK BİRİMİNİ YAZINIZ(C YADA F):\"))\n",
    "    if   B == (\"C\"):\n",
    "         print(\"GİRMİŞ OLDUĞUNUZ {}C= {}'DİR.\".format(D,F))\n",
    "    elif B==(\"F\"):\n",
    "         print(\"GİRMİŞ OLDUĞUNUZ {}F= {}'DİR'.\".format(D,C))"
   ]
  },
  {
   "cell_type": "markdown",
   "metadata": {},
   "source": [
    "# 2.ŞIK CEVABI"
   ]
  },
  {
   "cell_type": "code",
   "execution_count": 56,
   "metadata": {},
   "outputs": [
    {
     "name": "stdout",
     "output_type": "stream",
     "text": [
      "BİR KELİME YAZINIZ:ALİ ÇAVDAR\n",
      "RADVAÇ İLA"
     ]
    }
   ],
   "source": [
    "A=input(\"BİR KELİME YAZINIZ:\")\n",
    "for x in range(len(A)-1,-1,-1):\n",
    "    print(A[x], end =\"\")  #SOR: LEN KARAKTER SAYISI DEĞİLMİ NEDEN RANGE DÖNGÜSÜNDE HARF OLARAK ALGILANIYOR.\n",
    " \n",
    "\n",
    "    "
   ]
  },
  {
   "cell_type": "markdown",
   "metadata": {},
   "source": [
    "#  3.ŞIK CEVABI"
   ]
  },
  {
   "cell_type": "code",
   "execution_count": 67,
   "metadata": {
    "scrolled": true
   },
   "outputs": [
    {
     "name": "stdout",
     "output_type": "stream",
     "text": [
      "1\n",
      "1\n",
      "2\n",
      "3\n",
      "5\n",
      "8\n",
      "13\n",
      "21\n",
      "34\n",
      "55\n",
      "89\n",
      "144\n",
      "233\n",
      "377\n",
      "610\n",
      "987\n",
      "1597\n",
      "2584\n",
      "4181\n",
      "6765\n",
      "10946\n",
      "17711\n",
      "28657\n",
      "46368\n",
      "75025\n",
      "121393\n",
      "196418\n",
      "317811\n",
      "514229\n",
      "832040\n",
      "1346269\n",
      "2178309\n",
      "3524578\n",
      "5702887\n",
      "9227465\n",
      "14930352\n",
      "24157817\n",
      "39088169\n",
      "63245986\n",
      "102334155\n",
      "165580141\n",
      "267914296\n",
      "433494437\n",
      "701408733\n",
      "1134903170\n",
      "1836311903\n",
      "2971215073\n",
      "4807526976\n",
      "7778742049\n",
      "12586269025\n",
      "20365011074\n"
     ]
    }
   ],
   "source": [
    "A=1\n",
    "B=1\n",
    "print(A)\n",
    "print(B)\n",
    "İ=2\n",
    "while İ<=50:\n",
    "    A,B=B,A+B\n",
    "    print(B)\n",
    "    İ=İ+1"
   ]
  },
  {
   "cell_type": "markdown",
   "metadata": {},
   "source": [
    "# 4. ŞIK CEVABI"
   ]
  },
  {
   "cell_type": "code",
   "execution_count": 83,
   "metadata": {
    "scrolled": false
   },
   "outputs": [
    {
     "name": "stdout",
     "output_type": "stream",
     "text": [
      "BİR SAYI GİRİNİZ:8\n",
      "8 x 1 = 8\n",
      "8 x 2 = 16\n",
      "8 x 3 = 24\n",
      "8 x 4 = 32\n",
      "8 x 5 = 40\n",
      "8 x 6 = 48\n",
      "8 x 7 = 56\n",
      "8 x 8 = 64\n",
      "8 x 9 = 72\n",
      "8 x 10 = 80\n"
     ]
    }
   ],
   "source": [
    "A=input(\"BİR SAYI GİRİNİZ:\")\n",
    "B=0\n",
    "while B<10:\n",
    "    for İ in range(1,11):\n",
    "        print(str(A),\"x\",str(İ),\"=\",int(A)*İ)\n",
    "        B=B+1\n",
    "    "
   ]
  },
  {
   "cell_type": "markdown",
   "metadata": {},
   "source": [
    "# 5. ŞIK CEVABI"
   ]
  },
  {
   "cell_type": "code",
   "execution_count": 86,
   "metadata": {},
   "outputs": [
    {
     "name": "stdout",
     "output_type": "stream",
     "text": [
      "[1, 8, 9, 64, 25, 216, 49, 512, 81, 1000, 121, 1728, 169, 2744, 225, 4096, 289, 5832, 361]\n"
     ]
    }
   ],
   "source": [
    "ALİ=[x**3 if x%2==0 else x**2 for x in range(1,20)]\n",
    "print(ALİ)"
   ]
  }
 ],
 "metadata": {
  "kernelspec": {
   "display_name": "Python 3",
   "language": "python",
   "name": "python3"
  },
  "language_info": {
   "codemirror_mode": {
    "name": "ipython",
    "version": 3
   },
   "file_extension": ".py",
   "mimetype": "text/x-python",
   "name": "python",
   "nbconvert_exporter": "python",
   "pygments_lexer": "ipython3",
   "version": "3.7.4"
  }
 },
 "nbformat": 4,
 "nbformat_minor": 2
}
