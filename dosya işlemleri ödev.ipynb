{
 "cells": [
  {
   "cell_type": "markdown",
   "metadata": {},
   "source": [
    "# 1.ŞIK CEVAP"
   ]
  },
  {
   "cell_type": "code",
   "execution_count": null,
   "metadata": {},
   "outputs": [],
   "source": [
    "with open (\"İSTİKLAL MARŞI\",\"r\",encoding=(\"utf8\")) as ali:\n",
    "    Y=ali.readlines()\n",
    "    print(len(Y))\n",
    "    "
   ]
  },
  {
   "cell_type": "markdown",
   "metadata": {},
   "source": [
    "# 2.ŞIK CEVAP"
   ]
  },
  {
   "cell_type": "code",
   "execution_count": 10,
   "metadata": {},
   "outputs": [
    {
     "name": "stdout",
     "output_type": "stream",
     "text": [
      "Bir sayı giriniz:25\n",
      "sayınız asal değildir.\n"
     ]
    },
    {
     "data": {
      "text/plain": [
       "False"
      ]
     },
     "execution_count": 10,
     "metadata": {},
     "output_type": "execute_result"
    }
   ],
   "source": [
    "def asal(A):\n",
    "    \n",
    "    if A<=2:\n",
    "        print(\"sayınız asaldır.\")\n",
    "        return True\n",
    "        \n",
    "    elif A>2 :\n",
    "        asalmi=True \n",
    "        \n",
    "        for y in range(2,A):\n",
    "            \n",
    "            if A%y==0 :\n",
    "                print(\"sayınız asal değildir.\")\n",
    "                asalmi = False\n",
    "            \n",
    "                return False\n",
    "            \n",
    "    \n",
    "    if asalmi==True :\n",
    "        print(\"sayınız asaldır.\" )\n",
    "        return True\n",
    "    \n",
    "girilen_değer=int(input(\"Bir sayı giriniz:\"))      \n",
    "    \n",
    "asal(girilen_değer)\n"
   ]
  },
  {
   "cell_type": "code",
   "execution_count": 6,
   "metadata": {},
   "outputs": [
    {
     "name": "stdout",
     "output_type": "stream",
     "text": [
      "sayi giriniz:25\n",
      "25  asal degildir\n"
     ]
    }
   ],
   "source": [
    "def Asal (sayi):\n",
    "    adet = 0\n",
    "    for i in range(2,sayi+1):\n",
    "        if sayi%i==0:\n",
    "            adet+=1\n",
    "    if adet==1:\n",
    "        print (sayi, \" asaldir\")\n",
    "    else:\n",
    "        print (sayi,\" asal degildir\")\n",
    " \n",
    "sayi=int(input(\"sayi giriniz:\"))\n",
    "Asal(sayi)"
   ]
  },
  {
   "cell_type": "markdown",
   "metadata": {},
   "source": [
    "# 3.ŞIK CEVAP"
   ]
  },
  {
   "cell_type": "code",
   "execution_count": 2,
   "metadata": {},
   "outputs": [
    {
     "name": "stdout",
     "output_type": "stream",
     "text": [
      "[1, 2, 3, 4]\n"
     ]
    }
   ],
   "source": [
    "def uniq_liste(l):\n",
    "    x = []\n",
    "    for a in l :\n",
    "        if a not in x :\n",
    "            x.append(a)\n",
    "    return x\n",
    "print(uniq_liste([1,2,2,3,3,4,4]))"
   ]
  },
  {
   "cell_type": "code",
   "execution_count": null,
   "metadata": {},
   "outputs": [],
   "source": [
    "def yas(doğum_yili , güncel_yil):\n",
    "    yasim = güncel_yil - doğum_yili\n",
    "    return yasim\n",
    "print(yas(1992,2019))"
   ]
  },
  {
   "cell_type": "code",
   "execution_count": 5,
   "metadata": {},
   "outputs": [
    {
     "data": {
      "text/plain": [
       "[1, 2, 3, 4]"
      ]
     },
     "execution_count": 5,
     "metadata": {},
     "output_type": "execute_result"
    }
   ],
   "source": [
    "birinci_liste = [1,2,2,3,3,4,4]\n",
    "def yeni (x) :\n",
    "    ikinci_liste = []\n",
    "    for eleman in x :\n",
    "        if eleman not in ikinci_liste :\n",
    "            ikinci_liste.append(eleman)\n",
    "    return ikinci_liste\n",
    "yeni(birinci_liste)"
   ]
  }
 ],
 "metadata": {
  "kernelspec": {
   "display_name": "Python 3",
   "language": "python",
   "name": "python3"
  },
  "language_info": {
   "codemirror_mode": {
    "name": "ipython",
    "version": 3
   },
   "file_extension": ".py",
   "mimetype": "text/x-python",
   "name": "python",
   "nbconvert_exporter": "python",
   "pygments_lexer": "ipython3",
   "version": "3.7.4"
  }
 },
 "nbformat": 4,
 "nbformat_minor": 2
}
